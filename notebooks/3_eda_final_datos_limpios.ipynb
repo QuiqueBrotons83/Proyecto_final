{
 "cells": [
  {
   "cell_type": "code",
   "execution_count": 1,
   "metadata": {},
   "outputs": [],
   "source": [
    "# Cargamos las librerias\n",
    "import pandas as pd\n",
    "import numpy as np\n",
    "import matplotlib.pyplot as plt\n",
    "import seaborn as sns\n"
   ]
  },
  {
   "cell_type": "code",
   "execution_count": 2,
   "metadata": {},
   "outputs": [],
   "source": [
    "# Cargamos el dataset set de amazon datos limpios\n",
    "df = pd.read_csv('../data/data_procesed/amazon_data_clean.csv', sep=',', encoding='utf-8')"
   ]
  },
  {
   "cell_type": "markdown",
   "metadata": {},
   "source": [
    "## Vamos a realizar un EDA completo de los datos."
   ]
  },
  {
   "cell_type": "code",
   "execution_count": 3,
   "metadata": {},
   "outputs": [
    {
     "name": "stdout",
     "output_type": "stream",
     "text": [
      "Shape del dataset: (1103170, 10)\n"
     ]
    }
   ],
   "source": [
    "# Hacemos un shape del dataset\n",
    "print(\"Shape del dataset:\", df.shape)"
   ]
  },
  {
   "cell_type": "code",
   "execution_count": 4,
   "metadata": {},
   "outputs": [
    {
     "name": "stdout",
     "output_type": "stream",
     "text": [
      "\n",
      "Info general:\n",
      "<class 'pandas.core.frame.DataFrame'>\n",
      "RangeIndex: 1103170 entries, 0 to 1103169\n",
      "Data columns (total 10 columns):\n",
      " #   Column            Non-Null Count    Dtype  \n",
      "---  ------            --------------    -----  \n",
      " 0   name              1103170 non-null  object \n",
      " 1   main_category     1103170 non-null  object \n",
      " 2   sub_category      1103170 non-null  object \n",
      " 3   image             1103170 non-null  object \n",
      " 4   link              1103170 non-null  object \n",
      " 5   ratings           751582 non-null   object \n",
      " 6   no_of_ratings     1103170 non-null  int64  \n",
      " 7   discount_price    980844 non-null   float64\n",
      " 8   actual_price      1067544 non-null  float64\n",
      " 9   discount_percent  980844 non-null   float64\n",
      "dtypes: float64(3), int64(1), object(6)\n",
      "memory usage: 84.2+ MB\n",
      "None\n"
     ]
    }
   ],
   "source": [
    "# Miramos el tipo de datos y los nulos\n",
    "print(\"\\nInfo general:\")\n",
    "print(df.info())"
   ]
  },
  {
   "cell_type": "code",
   "execution_count": 5,
   "metadata": {},
   "outputs": [
    {
     "data": {
      "text/html": [
       "<div>\n",
       "<style scoped>\n",
       "    .dataframe tbody tr th:only-of-type {\n",
       "        vertical-align: middle;\n",
       "    }\n",
       "\n",
       "    .dataframe tbody tr th {\n",
       "        vertical-align: top;\n",
       "    }\n",
       "\n",
       "    .dataframe thead th {\n",
       "        text-align: right;\n",
       "    }\n",
       "</style>\n",
       "<table border=\"1\" class=\"dataframe\">\n",
       "  <thead>\n",
       "    <tr style=\"text-align: right;\">\n",
       "      <th></th>\n",
       "      <th>name</th>\n",
       "      <th>main_category</th>\n",
       "      <th>sub_category</th>\n",
       "      <th>image</th>\n",
       "      <th>link</th>\n",
       "      <th>ratings</th>\n",
       "      <th>no_of_ratings</th>\n",
       "      <th>discount_price</th>\n",
       "      <th>actual_price</th>\n",
       "      <th>discount_percent</th>\n",
       "    </tr>\n",
       "  </thead>\n",
       "  <tbody>\n",
       "    <tr>\n",
       "      <th>0</th>\n",
       "      <td>Lloyd 1.5 Ton 3 Star Inverter Split Ac (5 In 1...</td>\n",
       "      <td>appliances</td>\n",
       "      <td>Air Conditioners</td>\n",
       "      <td>https://m.media-amazon.com/images/I/31UISB90sY...</td>\n",
       "      <td>https://www.amazon.in/Lloyd-Inverter-Convertib...</td>\n",
       "      <td>4.2</td>\n",
       "      <td>2255</td>\n",
       "      <td>32999.0</td>\n",
       "      <td>58990.0</td>\n",
       "      <td>44.0</td>\n",
       "    </tr>\n",
       "    <tr>\n",
       "      <th>1</th>\n",
       "      <td>LG 1.5 Ton 5 Star AI DUAL Inverter Split AC (C...</td>\n",
       "      <td>appliances</td>\n",
       "      <td>Air Conditioners</td>\n",
       "      <td>https://m.media-amazon.com/images/I/51JFb7FctD...</td>\n",
       "      <td>https://www.amazon.in/LG-Convertible-Anti-Viru...</td>\n",
       "      <td>4.2</td>\n",
       "      <td>2948</td>\n",
       "      <td>46490.0</td>\n",
       "      <td>75990.0</td>\n",
       "      <td>39.0</td>\n",
       "    </tr>\n",
       "    <tr>\n",
       "      <th>2</th>\n",
       "      <td>LG 1 Ton 4 Star Ai Dual Inverter Split Ac (Cop...</td>\n",
       "      <td>appliances</td>\n",
       "      <td>Air Conditioners</td>\n",
       "      <td>https://m.media-amazon.com/images/I/51JFb7FctD...</td>\n",
       "      <td>https://www.amazon.in/LG-Inverter-Convertible-...</td>\n",
       "      <td>4.2</td>\n",
       "      <td>1206</td>\n",
       "      <td>34490.0</td>\n",
       "      <td>61990.0</td>\n",
       "      <td>44.0</td>\n",
       "    </tr>\n",
       "    <tr>\n",
       "      <th>3</th>\n",
       "      <td>LG 1.5 Ton 3 Star AI DUAL Inverter Split AC (C...</td>\n",
       "      <td>appliances</td>\n",
       "      <td>Air Conditioners</td>\n",
       "      <td>https://m.media-amazon.com/images/I/51JFb7FctD...</td>\n",
       "      <td>https://www.amazon.in/LG-Convertible-Anti-Viru...</td>\n",
       "      <td>4.0</td>\n",
       "      <td>69</td>\n",
       "      <td>37990.0</td>\n",
       "      <td>68990.0</td>\n",
       "      <td>45.0</td>\n",
       "    </tr>\n",
       "    <tr>\n",
       "      <th>4</th>\n",
       "      <td>Carrier 1.5 Ton 3 Star Inverter Split AC (Copp...</td>\n",
       "      <td>appliances</td>\n",
       "      <td>Air Conditioners</td>\n",
       "      <td>https://m.media-amazon.com/images/I/41lrtqXPiW...</td>\n",
       "      <td>https://www.amazon.in/Carrier-Inverter-Split-C...</td>\n",
       "      <td>4.1</td>\n",
       "      <td>630</td>\n",
       "      <td>34490.0</td>\n",
       "      <td>67790.0</td>\n",
       "      <td>49.0</td>\n",
       "    </tr>\n",
       "    <tr>\n",
       "      <th>5</th>\n",
       "      <td>Voltas 1.4 Ton 3 Star Inverter Split AC(Copper...</td>\n",
       "      <td>appliances</td>\n",
       "      <td>Air Conditioners</td>\n",
       "      <td>https://m.media-amazon.com/images/I/41TuyxwZ9m...</td>\n",
       "      <td>https://www.amazon.in/Voltas-Adjustable-173V-V...</td>\n",
       "      <td>4.0</td>\n",
       "      <td>1666</td>\n",
       "      <td>31990.0</td>\n",
       "      <td>70990.0</td>\n",
       "      <td>55.0</td>\n",
       "    </tr>\n",
       "    <tr>\n",
       "      <th>6</th>\n",
       "      <td>Lloyd 1.0 Ton 3 Star Inverter Split Ac (5 In 1...</td>\n",
       "      <td>appliances</td>\n",
       "      <td>Air Conditioners</td>\n",
       "      <td>https://m.media-amazon.com/images/I/31IXlxIPsO...</td>\n",
       "      <td>https://www.amazon.in/Lloyd-Inverter-Convertib...</td>\n",
       "      <td>4.2</td>\n",
       "      <td>1097</td>\n",
       "      <td>29999.0</td>\n",
       "      <td>49990.0</td>\n",
       "      <td>40.0</td>\n",
       "    </tr>\n",
       "    <tr>\n",
       "      <th>7</th>\n",
       "      <td>Lloyd 1.5 Ton 5 Star Inverter Split Ac (5 In 1...</td>\n",
       "      <td>appliances</td>\n",
       "      <td>Air Conditioners</td>\n",
       "      <td>https://m.media-amazon.com/images/I/31IXlxIPsO...</td>\n",
       "      <td>https://www.amazon.in/Lloyd-Inverter-Convertib...</td>\n",
       "      <td>4.3</td>\n",
       "      <td>1494</td>\n",
       "      <td>39990.0</td>\n",
       "      <td>67990.0</td>\n",
       "      <td>41.0</td>\n",
       "    </tr>\n",
       "    <tr>\n",
       "      <th>8</th>\n",
       "      <td>Carrier 1 Ton 3 Star AI Flexicool Inverter Spl...</td>\n",
       "      <td>appliances</td>\n",
       "      <td>Air Conditioners</td>\n",
       "      <td>https://m.media-amazon.com/images/I/51sTXvsanQ...</td>\n",
       "      <td>https://www.amazon.in/Carrier-Flexicool-Invert...</td>\n",
       "      <td>4.1</td>\n",
       "      <td>674</td>\n",
       "      <td>30990.0</td>\n",
       "      <td>58190.0</td>\n",
       "      <td>47.0</td>\n",
       "    </tr>\n",
       "    <tr>\n",
       "      <th>9</th>\n",
       "      <td>Voltas 1.5 Ton, 5 Star, Inverter Split AC(Copp...</td>\n",
       "      <td>appliances</td>\n",
       "      <td>Air Conditioners</td>\n",
       "      <td>https://m.media-amazon.com/images/I/51WQ3nWF0v...</td>\n",
       "      <td>https://www.amazon.in/Voltas-Inverter-Split-Co...</td>\n",
       "      <td>4.0</td>\n",
       "      <td>801</td>\n",
       "      <td>37999.0</td>\n",
       "      <td>73990.0</td>\n",
       "      <td>49.0</td>\n",
       "    </tr>\n",
       "  </tbody>\n",
       "</table>\n",
       "</div>"
      ],
      "text/plain": [
       "                                                name main_category  \\\n",
       "0  Lloyd 1.5 Ton 3 Star Inverter Split Ac (5 In 1...    appliances   \n",
       "1  LG 1.5 Ton 5 Star AI DUAL Inverter Split AC (C...    appliances   \n",
       "2  LG 1 Ton 4 Star Ai Dual Inverter Split Ac (Cop...    appliances   \n",
       "3  LG 1.5 Ton 3 Star AI DUAL Inverter Split AC (C...    appliances   \n",
       "4  Carrier 1.5 Ton 3 Star Inverter Split AC (Copp...    appliances   \n",
       "5  Voltas 1.4 Ton 3 Star Inverter Split AC(Copper...    appliances   \n",
       "6  Lloyd 1.0 Ton 3 Star Inverter Split Ac (5 In 1...    appliances   \n",
       "7  Lloyd 1.5 Ton 5 Star Inverter Split Ac (5 In 1...    appliances   \n",
       "8  Carrier 1 Ton 3 Star AI Flexicool Inverter Spl...    appliances   \n",
       "9  Voltas 1.5 Ton, 5 Star, Inverter Split AC(Copp...    appliances   \n",
       "\n",
       "       sub_category                                              image  \\\n",
       "0  Air Conditioners  https://m.media-amazon.com/images/I/31UISB90sY...   \n",
       "1  Air Conditioners  https://m.media-amazon.com/images/I/51JFb7FctD...   \n",
       "2  Air Conditioners  https://m.media-amazon.com/images/I/51JFb7FctD...   \n",
       "3  Air Conditioners  https://m.media-amazon.com/images/I/51JFb7FctD...   \n",
       "4  Air Conditioners  https://m.media-amazon.com/images/I/41lrtqXPiW...   \n",
       "5  Air Conditioners  https://m.media-amazon.com/images/I/41TuyxwZ9m...   \n",
       "6  Air Conditioners  https://m.media-amazon.com/images/I/31IXlxIPsO...   \n",
       "7  Air Conditioners  https://m.media-amazon.com/images/I/31IXlxIPsO...   \n",
       "8  Air Conditioners  https://m.media-amazon.com/images/I/51sTXvsanQ...   \n",
       "9  Air Conditioners  https://m.media-amazon.com/images/I/51WQ3nWF0v...   \n",
       "\n",
       "                                                link ratings  no_of_ratings  \\\n",
       "0  https://www.amazon.in/Lloyd-Inverter-Convertib...     4.2           2255   \n",
       "1  https://www.amazon.in/LG-Convertible-Anti-Viru...     4.2           2948   \n",
       "2  https://www.amazon.in/LG-Inverter-Convertible-...     4.2           1206   \n",
       "3  https://www.amazon.in/LG-Convertible-Anti-Viru...     4.0             69   \n",
       "4  https://www.amazon.in/Carrier-Inverter-Split-C...     4.1            630   \n",
       "5  https://www.amazon.in/Voltas-Adjustable-173V-V...     4.0           1666   \n",
       "6  https://www.amazon.in/Lloyd-Inverter-Convertib...     4.2           1097   \n",
       "7  https://www.amazon.in/Lloyd-Inverter-Convertib...     4.3           1494   \n",
       "8  https://www.amazon.in/Carrier-Flexicool-Invert...     4.1            674   \n",
       "9  https://www.amazon.in/Voltas-Inverter-Split-Co...     4.0            801   \n",
       "\n",
       "   discount_price  actual_price  discount_percent  \n",
       "0         32999.0       58990.0              44.0  \n",
       "1         46490.0       75990.0              39.0  \n",
       "2         34490.0       61990.0              44.0  \n",
       "3         37990.0       68990.0              45.0  \n",
       "4         34490.0       67790.0              49.0  \n",
       "5         31990.0       70990.0              55.0  \n",
       "6         29999.0       49990.0              40.0  \n",
       "7         39990.0       67990.0              41.0  \n",
       "8         30990.0       58190.0              47.0  \n",
       "9         37999.0       73990.0              49.0  "
      ]
     },
     "metadata": {},
     "output_type": "display_data"
    }
   ],
   "source": [
    "# Printemos las primeras filas del dataset\n",
    "display(df.head(10))\n"
   ]
  },
  {
   "cell_type": "code",
   "execution_count": 6,
   "metadata": {},
   "outputs": [],
   "source": [
    "# Decido crear una columna nueva que saco de la columna link y contiene el asin que es un dato bastante importante como dato unico de producto\n",
    "import re\n",
    "\n",
    "def extraer_asin(link):\n",
    "    match = re.search(r\"/dp/([A-Z0-9]{10})\", link)\n",
    "    return match.group(1) if match else None\n",
    "\n",
    "df[\"asin\"] = df[\"link\"].apply(extraer_asin)\n"
   ]
  },
  {
   "cell_type": "code",
   "execution_count": 7,
   "metadata": {},
   "outputs": [
    {
     "data": {
      "text/plain": [
       "asin\n",
       "B0B1J299BN    14\n",
       "B00NIOC4KE    12\n",
       "B09G6RG1YX    12\n",
       "B0BRHZM946    10\n",
       "B0BRJJ7QHZ    10\n",
       "              ..\n",
       "B08X7X2YNB     2\n",
       "B08X1MB7LR     2\n",
       "B08X1HGKPZ     2\n",
       "B08WR7P1DR     2\n",
       "B0BQGTYXRY     2\n",
       "Name: count, Length: 471156, dtype: int64"
      ]
     },
     "execution_count": 7,
     "metadata": {},
     "output_type": "execute_result"
    }
   ],
   "source": [
    "df['asin'].value_counts()"
   ]
  },
  {
   "cell_type": "code",
   "execution_count": 8,
   "metadata": {},
   "outputs": [
    {
     "name": "stdout",
     "output_type": "stream",
     "text": [
      "\n",
      "Resumen estadístico:\n"
     ]
    },
    {
     "data": {
      "text/html": [
       "<div>\n",
       "<style scoped>\n",
       "    .dataframe tbody tr th:only-of-type {\n",
       "        vertical-align: middle;\n",
       "    }\n",
       "\n",
       "    .dataframe tbody tr th {\n",
       "        vertical-align: top;\n",
       "    }\n",
       "\n",
       "    .dataframe thead th {\n",
       "        text-align: right;\n",
       "    }\n",
       "</style>\n",
       "<table border=\"1\" class=\"dataframe\">\n",
       "  <thead>\n",
       "    <tr style=\"text-align: right;\">\n",
       "      <th></th>\n",
       "      <th>no_of_ratings</th>\n",
       "      <th>discount_price</th>\n",
       "      <th>actual_price</th>\n",
       "      <th>discount_percent</th>\n",
       "    </tr>\n",
       "  </thead>\n",
       "  <tbody>\n",
       "    <tr>\n",
       "      <th>count</th>\n",
       "      <td>1.103170e+06</td>\n",
       "      <td>9.808440e+05</td>\n",
       "      <td>1.067544e+06</td>\n",
       "      <td>980844.000000</td>\n",
       "    </tr>\n",
       "    <tr>\n",
       "      <th>mean</th>\n",
       "      <td>5.633157e+02</td>\n",
       "      <td>2.623161e+03</td>\n",
       "      <td>2.311128e+04</td>\n",
       "      <td>49.255680</td>\n",
       "    </tr>\n",
       "    <tr>\n",
       "      <th>std</th>\n",
       "      <td>7.092570e+03</td>\n",
       "      <td>9.458191e+03</td>\n",
       "      <td>1.355081e+07</td>\n",
       "      <td>21.399692</td>\n",
       "    </tr>\n",
       "    <tr>\n",
       "      <th>min</th>\n",
       "      <td>0.000000e+00</td>\n",
       "      <td>8.000000e+00</td>\n",
       "      <td>0.000000e+00</td>\n",
       "      <td>0.000000</td>\n",
       "    </tr>\n",
       "    <tr>\n",
       "      <th>25%</th>\n",
       "      <td>0.000000e+00</td>\n",
       "      <td>3.890000e+02</td>\n",
       "      <td>9.900000e+02</td>\n",
       "      <td>35.000000</td>\n",
       "    </tr>\n",
       "    <tr>\n",
       "      <th>50%</th>\n",
       "      <td>4.000000e+00</td>\n",
       "      <td>6.790000e+02</td>\n",
       "      <td>1.599000e+03</td>\n",
       "      <td>50.000000</td>\n",
       "    </tr>\n",
       "    <tr>\n",
       "      <th>75%</th>\n",
       "      <td>4.900000e+01</td>\n",
       "      <td>1.399000e+03</td>\n",
       "      <td>2.999000e+03</td>\n",
       "      <td>66.000000</td>\n",
       "    </tr>\n",
       "    <tr>\n",
       "      <th>max</th>\n",
       "      <td>5.895470e+05</td>\n",
       "      <td>1.249990e+06</td>\n",
       "      <td>9.900000e+09</td>\n",
       "      <td>100.000000</td>\n",
       "    </tr>\n",
       "  </tbody>\n",
       "</table>\n",
       "</div>"
      ],
      "text/plain": [
       "       no_of_ratings  discount_price  actual_price  discount_percent\n",
       "count   1.103170e+06    9.808440e+05  1.067544e+06     980844.000000\n",
       "mean    5.633157e+02    2.623161e+03  2.311128e+04         49.255680\n",
       "std     7.092570e+03    9.458191e+03  1.355081e+07         21.399692\n",
       "min     0.000000e+00    8.000000e+00  0.000000e+00          0.000000\n",
       "25%     0.000000e+00    3.890000e+02  9.900000e+02         35.000000\n",
       "50%     4.000000e+00    6.790000e+02  1.599000e+03         50.000000\n",
       "75%     4.900000e+01    1.399000e+03  2.999000e+03         66.000000\n",
       "max     5.895470e+05    1.249990e+06  9.900000e+09        100.000000"
      ]
     },
     "metadata": {},
     "output_type": "display_data"
    }
   ],
   "source": [
    "# Hacemos un resumen estadistico de los datos numericos\n",
    "print(\"\\nResumen estadístico:\")\n",
    "display(df.describe())"
   ]
  },
  {
   "cell_type": "code",
   "execution_count": 9,
   "metadata": {},
   "outputs": [
    {
     "name": "stdout",
     "output_type": "stream",
     "text": [
      "\n",
      "Valores nulos por columna:\n",
      "name                     0\n",
      "main_category            0\n",
      "sub_category             0\n",
      "image                    0\n",
      "link                     0\n",
      "ratings             351588\n",
      "no_of_ratings            0\n",
      "discount_price      122326\n",
      "actual_price         35626\n",
      "discount_percent    122326\n",
      "asin                     0\n",
      "dtype: int64\n"
     ]
    }
   ],
   "source": [
    "# Hacemos un analisis de nulos por columna\n",
    "print(\"\\nValores nulos por columna:\")\n",
    "print(df.isnull().sum())"
   ]
  },
  {
   "cell_type": "code",
   "execution_count": 10,
   "metadata": {},
   "outputs": [],
   "source": [
    "# Después de ver los nulos, decido eliminar los nulos de discount price asuminendo que son al mismo precio que atual price.\n",
    "df['discount_price'] = df['discount_price'].fillna(df['actual_price'])"
   ]
  },
  {
   "cell_type": "code",
   "execution_count": 11,
   "metadata": {},
   "outputs": [],
   "source": [
    "# Ahora deberiamos recalcular el discount percentage\n",
    "df['discount_percentage'] = ((df['actual_price'] - df['discount_price']) / df['actual_price']) * 100"
   ]
  },
  {
   "cell_type": "code",
   "execution_count": 12,
   "metadata": {},
   "outputs": [],
   "source": [
    "# Decido eliminar las filas con nulos de la categoria ratings y actual price por que son pocos registros y no creo que cambien el resultado final\n",
    "df_eda = df[\n",
    "    df['ratings'].notnull() &\n",
    "    df['actual_price'].notnull()\n",
    "].copy()\n"
   ]
  },
  {
   "cell_type": "code",
   "execution_count": 13,
   "metadata": {},
   "outputs": [
    {
     "name": "stdout",
     "output_type": "stream",
     "text": [
      "\n",
      "Datos diferentes en las categorias main_category y actual_price:\n",
      "Main category:\n",
      "Index(['accessories', 'appliances', 'bags & luggage', 'beauty & health',\n",
      "       'car & motorbike', 'grocery & gourmet foods', 'home & kitchen',\n",
      "       'home, kitchen, pets', 'industrial supplies', 'kids' fashion',\n",
      "       'men's clothing', 'men's shoes', 'music', 'pet supplies',\n",
      "       'sports & fitness', 'stores', 'toys & baby products',\n",
      "       'tv, audio & cameras', 'women's clothing', 'women's shoes'],\n",
      "      dtype='object')\n",
      "Actual price:\n",
      "Index([         0.0,          4.0,         10.0,         15.0,         18.0,\n",
      "               20.0,         22.0,         25.0,         27.0,         28.0,\n",
      "       ...\n",
      "           424900.0,     479900.0,     499995.0,     589900.0,     609495.0,\n",
      "           699900.0,     700300.0,    1594900.0,   61082990.0, 9899999999.0],\n",
      "      dtype='float64', length=12353)\n"
     ]
    },
    {
     "data": {
      "text/plain": [
       "(20, 12353)"
      ]
     },
     "execution_count": 13,
     "metadata": {},
     "output_type": "execute_result"
    }
   ],
   "source": [
    "# Quiero ver los datos diferentes en las categorias main_category y actual_price\n",
    "df_eda['main_category'] = df_eda['main_category'].astype('category')\n",
    "df_eda['actual_price'] = df_eda['actual_price'].astype('category')\n",
    "# Visualizamos los datos diferentes en las categorias main_category y actual_price\n",
    "print(\"\\nDatos diferentes en las categorias main_category y actual_price:\")\n",
    "print(\"Main category:\")\n",
    "print(df_eda['main_category'].cat.categories)\n",
    "print(\"Actual price:\")\n",
    "print(df_eda['actual_price'].cat.categories)    \n",
    "len(df_eda['main_category'].cat.categories), len(df_eda['actual_price'].cat.categories)\n"
   ]
  },
  {
   "cell_type": "code",
   "execution_count": 14,
   "metadata": {},
   "outputs": [],
   "source": [
    "# Guardamos el dataset para subirlo a sql\n",
    "df_eda.to_csv('../data/data_procesed/amazon_data_clean_eda.csv', sep=',', encoding='utf-8', index=False)\n"
   ]
  },
  {
   "cell_type": "code",
   "execution_count": 18,
   "metadata": {},
   "outputs": [
    {
     "data": {
      "image/png": "[encoded data removed]",
      "text/plain": [
       "<Figure size 600x400 with 1 Axes>"
      ]
     },
     "metadata": {},
     "output_type": "display_data"
    },
    {
     "data": {
      "image/png": "[encoded data removed]",
      "text/plain": [
       "<Figure size 600x400 with 1 Axes>"
      ]
     },
     "metadata": {},
     "output_type": "display_data"
    },
    {
     "data": {
      "image/png": "[encoded data removed]",
      "text/plain": [
       "<Figure size 600x400 with 1 Axes>"
      ]
     },
     "metadata": {},
     "output_type": "display_data"
    },
    {
     "data": {
      "image/png": "[encoded data removed]",
      "text/plain": [
       "<Figure size 600x400 with 1 Axes>"
      ]
     },
     "metadata": {},
     "output_type": "display_data"
    },
    {
     "data": {
      "image/png": "[encoded data removed]",
      "text/plain": [
       "<Figure size 600x400 with 1 Axes>"
      ]
     },
     "metadata": {},
     "output_type": "display_data"
    }
   ],
   "source": [
    "\n",
    "\n",
    "# Selección manual de columnas numéricas importantes\n",
    "variables = [\"actual_price\", \"discount_price\", \"ratings\", \"no_of_ratings\", \"discount_percent\"]\n",
    "\n",
    "# Limpiar y convertir forzosamente a numérico\n",
    "df_plot = df_eda[variables].copy()\n",
    "df_plot = df_plot.apply(pd.to_numeric, errors='coerce').dropna()\n",
    "\n",
    "# Muestra segura\n",
    "df_sample = df_plot.sample(n=min(1000, len(df_plot)), random_state=42)\n",
    "\n",
    "# Graficar variables una por una\n",
    "for col in variables:\n",
    "    plt.figure(figsize=(6, 4))\n",
    "    sns.histplot(df_sample[col], bins=30, kde=False)\n",
    "    plt.title(f\"Distribución de {col.replace('_', ' ').title()}\")\n",
    "    plt.xlabel(col)\n",
    "    plt.ylabel(\"Frecuencia\")\n",
    "    plt.tight_layout()\n",
    "    plt.show()\n",
    "\n"
   ]
  },
  {
   "cell_type": "markdown",
   "metadata": {},
   "source": [
    "📊 Análisis Exploratorio de Datos (EDA) – Variables Numéricas\n",
    "1. Distribución de Ratings\n",
    "La mayoría de los productos tienen calificaciones entre 4.0 y 4.5, lo cual indica que los productos en Amazon suelen tener una buena valoración general.\n",
    "\n",
    "Esto puede dificultar distinguir calidad únicamente por ratings, ya que la mayoría está bien valorada.\n",
    "\n",
    "2. Número de Valoraciones (no_of_ratings)\n",
    "Distribución altamente sesgada a la izquierda.\n",
    "\n",
    "Muchos productos tienen muy pocas reviews, mientras que unos pocos productos tienen decenas o incluso cientos de miles (outliers).\n",
    "\n",
    "Se recomienda aplicar una escala logarítmica o analizar por percentiles para evitar distorsiones.\n",
    "\n",
    "3. Precio Original (actual_price)\n",
    "Gran concentración en precios bajos, pero con presencia de outliers muy grandes (hasta 10 mil millones).\n",
    "\n",
    "Se identifican errores o registros poco fiables, que deberían ser filtrados en etapas posteriores.\n",
    "\n",
    "4. Precio con Descuento (discount_price)\n",
    "Patrón similar al de actual_price, con la mayoría de productos concentrados en el rango más bajo.\n",
    "\n",
    "Al haber imputado los nulos con actual_price, muchos productos tienen discount_price = actual_price, lo cual implica sin descuento.\n",
    "\n",
    "5. Porcentaje de Descuento (discount_percent)\n",
    "Distribución interesante, con un claro pico entre 50% y 60% de descuento.\n",
    "\n",
    "Muchas observaciones entre 30% y 70%, lo que refleja una estrategia agresiva de descuentos en Amazon.\n",
    "\n",
    "✅ Conclusión general del EDA numérico:\n",
    "Los datos muestran una plataforma con productos altamente valorados pero con gran desigualdad en visibilidad y precios. Los descuentos agresivos podrían ser un factor determinante en las decisiones de compra, y hay que considerar el sesgo de productos sin suficientes valoraciones. Además, se recomienda limpiar outliers extremos en precios.\n",
    "\n"
   ]
  }
 ],
 "metadata": {
  "kernelspec": {
   "display_name": "Python 3",
   "language": "python",
   "name": "python3"
  },
  "language_info": {
   "codemirror_mode": {
    "name": "ipython",
    "version": 3
   },
   "file_extension": ".py",
   "mimetype": "text/x-python",
   "name": "python",
   "nbconvert_exporter": "python",
   "pygments_lexer": "ipython3",
   "version": "3.11.4"
  }
 },
 "nbformat": 4,
 "nbformat_minor": 2
}
