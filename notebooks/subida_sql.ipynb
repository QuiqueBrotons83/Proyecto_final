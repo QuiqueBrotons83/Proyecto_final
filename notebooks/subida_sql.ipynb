{
 "cells": [
  {
   "cell_type": "code",
   "execution_count": 1,
   "metadata": {},
   "outputs": [],
   "source": [
    "import pandas as pd\n",
    "from sqlalchemy import create_engine\n"
   ]
  },
  {
   "cell_type": "code",
   "execution_count": 3,
   "metadata": {},
   "outputs": [
    {
     "name": "stdout",
     "output_type": "stream",
     "text": [
      "✅ ¡Datos cargados correctamente en PostgreSQL!\n"
     ]
    }
   ],
   "source": [
    "\n",
    "# Cargar el CSV limpio\n",
    "df_clean = pd.read_csv(\"../data/data_procesed/amazon_data_clean.csv\")\n",
    "\n",
    "# Realizacion de la conexion a PostgreSQL\n",
    "usuario = \"postgres\"\n",
    "contrasena = \"quique\"\n",
    "host = \"localhost\"  # o IP de tu servidor\n",
    "puerto = \"5432\"\n",
    "base_de_datos = \"PROYECTO_FINAL\"\n",
    "\n",
    "# Crear string de conexión (PostgreSQL)\n",
    "conexion = f\"postgresql+psycopg2://{usuario}:{contrasena}@{host}:{puerto}/{base_de_datos}\"\n",
    "\n",
    "# Crear el motor de conexión\n",
    "engine = create_engine(conexion)\n",
    "\n",
    "# Subir DataFrame a PostgreSQL (tabla: amazon_products)\n",
    "df_clean.to_sql(\"amazon_products\", engine, if_exists=\"replace\", index=False)\n",
    "\n",
    "print(\"✅ ¡Datos cargados correctamente en PostgreSQL!\")\n"
   ]
  }
 ],
 "metadata": {
  "kernelspec": {
   "display_name": "Python 3",
   "language": "python",
   "name": "python3"
  },
  "language_info": {
   "codemirror_mode": {
    "name": "ipython",
    "version": 3
   },
   "file_extension": ".py",
   "mimetype": "text/x-python",
   "name": "python",
   "nbconvert_exporter": "python",
   "pygments_lexer": "ipython3",
   "version": "3.11.4"
  }
 },
 "nbformat": 4,
 "nbformat_minor": 2
}
