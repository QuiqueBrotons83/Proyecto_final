{
 "cells": [
  {
   "cell_type": "code",
   "execution_count": 2,
   "id": "df9624a8",
   "metadata": {},
   "outputs": [
    {
     "name": "stdout",
     "output_type": "stream",
     "text": [
      "ref                                                    title                                              size  lastUpdated                 downloadCount  voteCount  usabilityRating  \n",
      "-----------------------------------------------------  -------------------------------------------  ----------  --------------------------  -------------  ---------  ---------------  \n",
      "karkavelrajaj/amazon-sales-dataset                     Amazon Sales Dataset                            2043633  2023-01-17 06:21:15.450000         155598        903  1.0              \n",
      "kritanjalijain/amazon-reviews                          Amazon reviews                               1389222210  2021-05-15 09:45:40.597000          27309        195  1.0              \n",
      "snap/amazon-fine-food-reviews                          Amazon Fine Food Reviews                      253873708  2017-05-01 18:51:31.490000         217422       2321  0.7941176        \n",
      "abdallahwagih/amazon-reviews                           Amazon reviews                                 46491149  2023-10-16 18:25:58.730000           4187         97  1.0              \n",
      "mohamedbakhet/amazon-books-reviews                     Amazon Books Reviews                         1140283761  2022-09-13 23:04:08.787000          25246        190  1.0              \n",
      "sid321axn/amazon-alexa-reviews                         Amazon Alexa Reviews                             167607  2018-07-31 17:45:14.407000          26111        287  0.8235294        \n",
      "eswarchandt/amazon-music-reviews                       Amazon Musical Instruments Reviews              4921881  2020-03-29 02:59:52.473000          20125        307  1.0              \n",
      "grikomsn/amazon-cell-phones-reviews                    Amazon Cell Phones Reviews                      9274620  2019-12-26 22:21:16.053000          20419        231  1.0              \n",
      "lokeshparab/amazon-products-dataset                    Amazon Products Sales Dataset 2023             83555296  2023-03-26 10:45:19.263000          52399        446  1.0              \n",
      "arhamrumi/amazon-product-reviews                       Amazon Product Reviews                        120062355  2021-07-11 17:40:05.393000          13615         76  1.0              \n",
      "sujalsuthar/amazon-delivery-dataset                    Amazon Delivery Dataset                         1606558  2024-07-02 03:39:48.970000           6638         69  1.0              \n",
      "skillsmuggler/amazon-ratings                           Amazon - Ratings (Beauty Products)             30243733  2018-06-24 09:49:57.787000          17384        136  1.0              \n",
      "swathiunnikrishnan/amazon-consumer-behaviour-dataset   Amazon consumer Behaviour Dataset                 15864  2023-07-06 07:21:42.897000          13166        134  1.0              \n",
      "sootersaalu/amazon-top-50-bestselling-books-2009-2019  Amazon Top 50 Bestselling Books 2009 - 2019       14857  2020-10-13 09:39:21.180000          74245       1080  1.0              \n",
      "bittlingmayer/amazonreviews                            Amazon Reviews for Sentiment Analysis         517080965  2019-11-18 02:50:34.600000          88709       1003  0.6875           \n",
      "zahidmughal2343/amazon-sales-2025                      Amazon Sales 2025                                  3617  2025-04-03 22:08:13.607000           4791         52  1.0              \n",
      "saurav9786/amazon-product-reviews                      Amazon Product Reviews                        114817524  2020-01-14 13:25:53.247000          25312        164  0.64705884       \n",
      "PromptCloudHQ/toy-products-on-amazon                   Toy Products on Amazon                          8576250  2017-09-15 19:45:36.823000          12366        146  1.0              \n",
      "anandshaw2001/amazon-sales-dataset                     Amazon Sales Dataset                             262214  2024-03-04 18:30:11.113000           6867         66  0.88235295       \n",
      "PromptCloudHQ/amazon-reviews-unlocked-mobile-phones    Amazon Reviews: Unlocked Mobile Phones         34182461  2017-01-11 10:22:30.603000          16670        184  1.0              \n"
     ]
    }
   ],
   "source": [
    "!kaggle datasets list -s amazon\n"
   ]
  },
  {
   "cell_type": "code",
   "execution_count": 3,
   "id": "ba7bdd69",
   "metadata": {},
   "outputs": [],
   "source": [
    "import sys\n",
    "import os\n",
    "\n",
    "# Añadir la carpeta src al path para que Python pueda importar\n",
    "sys.path.append(os.path.abspath(\"src\"))\n",
    "\n",
    "# Ahora puedes importar las funciones del script\n",
    "from load_data import download_dataset_kaggle, load_and_combine_csv\n",
    "\n",
    "# Descargar y cargar los datos\n",
    "download_dataset_kaggle(\"lokeshparab/amazon-products-dataset\", \"data/raw\")\n",
    "df = load_and_combine_csv(\"data/raw\")\n",
    "\n"
   ]
  },
  {
   "cell_type": "code",
   "execution_count": 7,
   "id": "669cc3ec",
   "metadata": {},
   "outputs": [],
   "source": [
    "# Guardar el dataframe combinado en un archivo CSV\n",
    "df.to_csv(\"data/data_procesed/amazon_data_combined.csv\", index=False)\n"
   ]
  }
 ],
 "metadata": {
  "kernelspec": {
   "display_name": "Python 3",
   "language": "python",
   "name": "python3"
  },
  "language_info": {
   "codemirror_mode": {
    "name": "ipython",
    "version": 3
   },
   "file_extension": ".py",
   "mimetype": "text/x-python",
   "name": "python",
   "nbconvert_exporter": "python",
   "pygments_lexer": "ipython3",
   "version": "3.11.4"
  }
 },
 "nbformat": 4,
 "nbformat_minor": 5
}
