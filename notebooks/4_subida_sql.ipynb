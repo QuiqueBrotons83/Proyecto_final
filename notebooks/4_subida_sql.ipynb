{
 "cells": [
  {
   "cell_type": "code",
   "execution_count": 17,
   "metadata": {},
   "outputs": [],
   "source": [
    "\n",
    "import psycopg2\n",
    "from psycopg2.extras import execute_values\n"
   ]
  },
  {
   "cell_type": "code",
   "execution_count": 4,
   "metadata": {},
   "outputs": [
    {
     "name": "stdout",
     "output_type": "stream",
     "text": [
      "Conexión establecida correctamente.\n"
     ]
    }
   ],
   "source": [
    "# Parámetros de conexión – AJUSTA esto a tu configuración local\n",
    "conn = psycopg2.connect(\n",
    "    host=\"localhost\",\n",
    "    database=\"PROYECTO_FINAL_AMAZON\",\n",
    "    user=\"postgres\",\n",
    "    password=\"quique\"\n",
    ")\n",
    "cursor = conn.cursor()\n",
    "print(\"Conexión establecida correctamente.\")\n"
   ]
  },
  {
   "cell_type": "code",
   "execution_count": 5,
   "metadata": {},
   "outputs": [
    {
     "name": "stdout",
     "output_type": "stream",
     "text": [
      "Tablas creadas correctamente.\n"
     ]
    }
   ],
   "source": [
    "# Crear tabla categoria\n",
    "cursor.execute(\"\"\"\n",
    "CREATE TABLE IF NOT EXISTS categoria (\n",
    "    id SERIAL PRIMARY KEY,\n",
    "    nombre TEXT NOT NULL UNIQUE\n",
    ");\n",
    "\"\"\")\n",
    "\n",
    "# Crear tabla subcategoria\n",
    "cursor.execute(\"\"\"\n",
    "CREATE TABLE IF NOT EXISTS subcategoria (\n",
    "    id SERIAL PRIMARY KEY,\n",
    "    nombre TEXT NOT NULL,\n",
    "    categoria_id INTEGER REFERENCES categoria(id)\n",
    ");\n",
    "\"\"\")\n",
    "\n",
    "# Crear tabla producto\n",
    "cursor.execute(\"\"\"\n",
    "CREATE TABLE IF NOT EXISTS producto (\n",
    "    id SERIAL PRIMARY KEY,\n",
    "    nombre TEXT NOT NULL,\n",
    "    descripcion TEXT,\n",
    "    precio NUMERIC NOT NULL,\n",
    "    precio_original NUMERIC,\n",
    "    porcentaje_descuento NUMERIC,\n",
    "    porcentaje_descuento_2 NUMERIC,\n",
    "    no_ratings INTEGER,\n",
    "    asin TEXT,\n",
    "    image TEXT,\n",
    "    link TEXT,\n",
    "    subcategoria_id INTEGER REFERENCES subcategoria(id)\n",
    ");\n",
    "\"\"\")\n",
    "\n",
    "conn.commit()\n",
    "print(\"Tablas creadas correctamente.\")\n"
   ]
  },
  {
   "cell_type": "code",
   "execution_count": 8,
   "metadata": {},
   "outputs": [
    {
     "name": "stdout",
     "output_type": "stream",
     "text": [
      "DataFrame cargado con shape: (738060, 12)\n"
     ]
    },
    {
     "data": {
      "text/html": [
       "<div>\n",
       "<style scoped>\n",
       "    .dataframe tbody tr th:only-of-type {\n",
       "        vertical-align: middle;\n",
       "    }\n",
       "\n",
       "    .dataframe tbody tr th {\n",
       "        vertical-align: top;\n",
       "    }\n",
       "\n",
       "    .dataframe thead th {\n",
       "        text-align: right;\n",
       "    }\n",
       "</style>\n",
       "<table border=\"1\" class=\"dataframe\">\n",
       "  <thead>\n",
       "    <tr style=\"text-align: right;\">\n",
       "      <th></th>\n",
       "      <th>name</th>\n",
       "      <th>main_category</th>\n",
       "      <th>sub_category</th>\n",
       "      <th>image</th>\n",
       "      <th>link</th>\n",
       "      <th>ratings</th>\n",
       "      <th>no_of_ratings</th>\n",
       "      <th>discount_price</th>\n",
       "      <th>actual_price</th>\n",
       "      <th>discount_percent</th>\n",
       "      <th>asin</th>\n",
       "      <th>discount_percentage</th>\n",
       "    </tr>\n",
       "  </thead>\n",
       "  <tbody>\n",
       "    <tr>\n",
       "      <th>0</th>\n",
       "      <td>Lloyd 1.5 Ton 3 Star Inverter Split Ac (5 In 1...</td>\n",
       "      <td>appliances</td>\n",
       "      <td>Air Conditioners</td>\n",
       "      <td>https://m.media-amazon.com/images/I/31UISB90sY...</td>\n",
       "      <td>https://www.amazon.in/Lloyd-Inverter-Convertib...</td>\n",
       "      <td>4.2</td>\n",
       "      <td>2255</td>\n",
       "      <td>32999.0</td>\n",
       "      <td>58990.0</td>\n",
       "      <td>44.0</td>\n",
       "      <td>B0BRKXTSBT</td>\n",
       "      <td>44.060010</td>\n",
       "    </tr>\n",
       "    <tr>\n",
       "      <th>1</th>\n",
       "      <td>LG 1.5 Ton 5 Star AI DUAL Inverter Split AC (C...</td>\n",
       "      <td>appliances</td>\n",
       "      <td>Air Conditioners</td>\n",
       "      <td>https://m.media-amazon.com/images/I/51JFb7FctD...</td>\n",
       "      <td>https://www.amazon.in/LG-Convertible-Anti-Viru...</td>\n",
       "      <td>4.2</td>\n",
       "      <td>2948</td>\n",
       "      <td>46490.0</td>\n",
       "      <td>75990.0</td>\n",
       "      <td>39.0</td>\n",
       "      <td>B0BQ3MXML8</td>\n",
       "      <td>38.820897</td>\n",
       "    </tr>\n",
       "    <tr>\n",
       "      <th>2</th>\n",
       "      <td>LG 1 Ton 4 Star Ai Dual Inverter Split Ac (Cop...</td>\n",
       "      <td>appliances</td>\n",
       "      <td>Air Conditioners</td>\n",
       "      <td>https://m.media-amazon.com/images/I/51JFb7FctD...</td>\n",
       "      <td>https://www.amazon.in/LG-Inverter-Convertible-...</td>\n",
       "      <td>4.2</td>\n",
       "      <td>1206</td>\n",
       "      <td>34490.0</td>\n",
       "      <td>61990.0</td>\n",
       "      <td>44.0</td>\n",
       "      <td>B0BPYN9JGF</td>\n",
       "      <td>44.361994</td>\n",
       "    </tr>\n",
       "    <tr>\n",
       "      <th>3</th>\n",
       "      <td>LG 1.5 Ton 3 Star AI DUAL Inverter Split AC (C...</td>\n",
       "      <td>appliances</td>\n",
       "      <td>Air Conditioners</td>\n",
       "      <td>https://m.media-amazon.com/images/I/51JFb7FctD...</td>\n",
       "      <td>https://www.amazon.in/LG-Convertible-Anti-Viru...</td>\n",
       "      <td>4.0</td>\n",
       "      <td>69</td>\n",
       "      <td>37990.0</td>\n",
       "      <td>68990.0</td>\n",
       "      <td>45.0</td>\n",
       "      <td>B0BQ3MJ1TG</td>\n",
       "      <td>44.934048</td>\n",
       "    </tr>\n",
       "    <tr>\n",
       "      <th>4</th>\n",
       "      <td>Carrier 1.5 Ton 3 Star Inverter Split AC (Copp...</td>\n",
       "      <td>appliances</td>\n",
       "      <td>Air Conditioners</td>\n",
       "      <td>https://m.media-amazon.com/images/I/41lrtqXPiW...</td>\n",
       "      <td>https://www.amazon.in/Carrier-Inverter-Split-C...</td>\n",
       "      <td>4.1</td>\n",
       "      <td>630</td>\n",
       "      <td>34490.0</td>\n",
       "      <td>67790.0</td>\n",
       "      <td>49.0</td>\n",
       "      <td>B0B67RLLJC</td>\n",
       "      <td>49.122289</td>\n",
       "    </tr>\n",
       "  </tbody>\n",
       "</table>\n",
       "</div>"
      ],
      "text/plain": [
       "                                                name main_category  \\\n",
       "0  Lloyd 1.5 Ton 3 Star Inverter Split Ac (5 In 1...    appliances   \n",
       "1  LG 1.5 Ton 5 Star AI DUAL Inverter Split AC (C...    appliances   \n",
       "2  LG 1 Ton 4 Star Ai Dual Inverter Split Ac (Cop...    appliances   \n",
       "3  LG 1.5 Ton 3 Star AI DUAL Inverter Split AC (C...    appliances   \n",
       "4  Carrier 1.5 Ton 3 Star Inverter Split AC (Copp...    appliances   \n",
       "\n",
       "       sub_category                                              image  \\\n",
       "0  Air Conditioners  https://m.media-amazon.com/images/I/31UISB90sY...   \n",
       "1  Air Conditioners  https://m.media-amazon.com/images/I/51JFb7FctD...   \n",
       "2  Air Conditioners  https://m.media-amazon.com/images/I/51JFb7FctD...   \n",
       "3  Air Conditioners  https://m.media-amazon.com/images/I/51JFb7FctD...   \n",
       "4  Air Conditioners  https://m.media-amazon.com/images/I/41lrtqXPiW...   \n",
       "\n",
       "                                                link ratings  no_of_ratings  \\\n",
       "0  https://www.amazon.in/Lloyd-Inverter-Convertib...     4.2           2255   \n",
       "1  https://www.amazon.in/LG-Convertible-Anti-Viru...     4.2           2948   \n",
       "2  https://www.amazon.in/LG-Inverter-Convertible-...     4.2           1206   \n",
       "3  https://www.amazon.in/LG-Convertible-Anti-Viru...     4.0             69   \n",
       "4  https://www.amazon.in/Carrier-Inverter-Split-C...     4.1            630   \n",
       "\n",
       "   discount_price  actual_price  discount_percent        asin  \\\n",
       "0         32999.0       58990.0              44.0  B0BRKXTSBT   \n",
       "1         46490.0       75990.0              39.0  B0BQ3MXML8   \n",
       "2         34490.0       61990.0              44.0  B0BPYN9JGF   \n",
       "3         37990.0       68990.0              45.0  B0BQ3MJ1TG   \n",
       "4         34490.0       67790.0              49.0  B0B67RLLJC   \n",
       "\n",
       "   discount_percentage  \n",
       "0            44.060010  \n",
       "1            38.820897  \n",
       "2            44.361994  \n",
       "3            44.934048  \n",
       "4            49.122289  "
      ]
     },
     "execution_count": 8,
     "metadata": {},
     "output_type": "execute_result"
    }
   ],
   "source": [
    "import pandas as pd\n",
    "\n",
    "# Ruta al archivo CSV limpio \n",
    "df = pd.read_csv(\"c:/Users/User/Desktop/hackio/proyectos/Proyecto_Final/Proyecto_final/data/data_procesed/amazon_data_clean_eda.csv\")\n",
    "\n",
    "# Confirmamos que se cargó correctamente\n",
    "print(\"DataFrame cargado con shape:\", df.shape)\n",
    "df.head()\n"
   ]
  },
  {
   "cell_type": "code",
   "execution_count": 9,
   "metadata": {},
   "outputs": [
    {
     "name": "stdout",
     "output_type": "stream",
     "text": [
      "Categorías insertadas.\n"
     ]
    }
   ],
   "source": [
    "categorias = df['main_category'].dropna().drop_duplicates()\n",
    "\n",
    "for cat in categorias:\n",
    "    cursor.execute(\"\"\"\n",
    "        INSERT INTO categoria (nombre)\n",
    "        VALUES (%s)\n",
    "        ON CONFLICT (nombre) DO NOTHING;\n",
    "    \"\"\", (cat,))\n",
    "conn.commit()\n",
    "print(\"Categorías insertadas.\")\n"
   ]
  },
  {
   "cell_type": "code",
   "execution_count": 13,
   "metadata": {},
   "outputs": [],
   "source": [
    "# Creamos diccionario de categorías\n",
    "cursor.execute(\"SELECT id, nombre FROM categoria\")\n",
    "categoria_map = {nombre: id for id, nombre in cursor.fetchall()}"
   ]
  },
  {
   "cell_type": "code",
   "execution_count": 14,
   "metadata": {},
   "outputs": [
    {
     "name": "stdout",
     "output_type": "stream",
     "text": [
      "Subcategorías insertadas.\n"
     ]
    }
   ],
   "source": [
    "# Insertar subcategorías\n",
    "subcategorias = df[['main_category', 'sub_category']].drop_duplicates()\n",
    "\n",
    "for _, row in subcategorias.iterrows():\n",
    "    nombre_sub = row['sub_category']\n",
    "    nombre_cat = row['main_category']\n",
    "    categoria_id = categoria_map.get(nombre_cat)\n",
    "\n",
    "    if categoria_id:\n",
    "        cursor.execute(\"\"\"\n",
    "            INSERT INTO subcategoria (nombre, categoria_id)\n",
    "            VALUES (%s, %s)\n",
    "            ON CONFLICT DO NOTHING;\n",
    "        \"\"\", (nombre_sub, categoria_id))\n",
    "conn.commit()\n",
    "print(\"Subcategorías insertadas.\")\n"
   ]
  },
  {
   "cell_type": "code",
   "execution_count": 15,
   "metadata": {},
   "outputs": [],
   "source": [
    "# Cremos diccionario para mapear subcategorías a sus IDs\n",
    "cursor.execute(\"SELECT id, nombre FROM subcategoria\")\n",
    "subcategoria_map = {nombre: id for id, nombre in cursor.fetchall()}"
   ]
  },
  {
   "cell_type": "code",
   "execution_count": 18,
   "metadata": {},
   "outputs": [
    {
     "name": "stdout",
     "output_type": "stream",
     "text": [
      "Inserción masiva completada.\n"
     ]
    }
   ],
   "source": [
    "# Insertamos productos\n",
    "\n",
    "productos_data = []\n",
    "\n",
    "for _, row in df.iterrows():\n",
    "    subcat_id = subcategoria_map.get(row['sub_category'])\n",
    "    if subcat_id:\n",
    "        productos_data.append((\n",
    "            row['name'],\n",
    "            row['ratings'],\n",
    "            row['discount_price'],\n",
    "            row['actual_price'],\n",
    "            row.get('discount_percent'),\n",
    "            row.get('discount_percentage'),\n",
    "            row['no_of_ratings'],\n",
    "            row['asin'],\n",
    "            row['image'],\n",
    "            row['link'],\n",
    "            subcat_id\n",
    "        ))\n",
    "\n",
    "# Ahora insertamos todos los productos en lote\n",
    "query = \"\"\"\n",
    "    INSERT INTO producto (\n",
    "        nombre, descripcion, precio, precio_original,\n",
    "        porcentaje_descuento, porcentaje_descuento_2,\n",
    "        no_ratings, asin, image, link, subcategoria_id\n",
    "    ) VALUES %s\n",
    "\"\"\"\n",
    "execute_values(cursor, query, productos_data)\n",
    "conn.commit()\n",
    "print(\"Inserción masiva completada.\")\n",
    "\n"
   ]
  },
  {
   "cell_type": "code",
   "execution_count": 19,
   "metadata": {},
   "outputs": [
    {
     "name": "stdout",
     "output_type": "stream",
     "text": [
      "Conexión cerrada.\n"
     ]
    }
   ],
   "source": [
    "# Cerramos la conexión\n",
    "cursor.close()\n",
    "conn.close()\n",
    "print(\"Conexión cerrada.\")"
   ]
  }
 ],
 "metadata": {
  "kernelspec": {
   "display_name": "base",
   "language": "python",
   "name": "python3"
  },
  "language_info": {
   "codemirror_mode": {
    "name": "ipython",
    "version": 3
   },
   "file_extension": ".py",
   "mimetype": "text/x-python",
   "name": "python",
   "nbconvert_exporter": "python",
   "pygments_lexer": "ipython3",
   "version": "3.11.7"
  }
 },
 "nbformat": 4,
 "nbformat_minor": 2
}
